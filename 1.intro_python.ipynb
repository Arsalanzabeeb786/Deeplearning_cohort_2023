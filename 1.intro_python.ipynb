{
 "cells": [
  {
   "cell_type": "markdown",
   "id": "24d70acf",
   "metadata": {},
   "source": [
    "# Print and Basic Input:"
   ]
  },
  {
   "cell_type": "code",
   "execution_count": 1,
   "id": "d70a975d",
   "metadata": {},
   "outputs": [
    {
     "name": "stdout",
     "output_type": "stream",
     "text": [
      "Hello, World!\n",
      "Enter your name: Arsalan\n",
      "Hello, Arsalan\n"
     ]
    }
   ],
   "source": [
    "# Printing\n",
    "print(\"Hello, World!\")\n",
    "\n",
    "# Basic Input\n",
    "name = input(\"Enter your name: \")\n",
    "print(\"Hello,\", name)\n"
   ]
  },
  {
   "cell_type": "markdown",
   "id": "5c283935",
   "metadata": {},
   "source": [
    "# Variables and Data Types:"
   ]
  },
  {
   "cell_type": "code",
   "execution_count": 2,
   "id": "d8da91de",
   "metadata": {},
   "outputs": [],
   "source": [
    "# Variables\n",
    "age = 25\n",
    "\n",
    "# Data Types\n",
    "num = 42\n",
    "f_num = 3.14\n",
    "string = \"Hello\"\n",
    "is_true = True\n"
   ]
  },
  {
   "cell_type": "markdown",
   "id": "c19a22d6",
   "metadata": {},
   "source": [
    "# Operators:"
   ]
  },
  {
   "cell_type": "code",
   "execution_count": 27,
   "id": "c930811c",
   "metadata": {},
   "outputs": [],
   "source": [
    "a = 5\n",
    "b = 2\n",
    "\n",
    "# Arithmetic Operators\n",
    "addition = a + b\n",
    "subtraction = a - b\n",
    "multiplication = a * b\n",
    "division = a / b\n",
    "modulus = a % b\n",
    "exponentiation = a ** b\n",
    "\n",
    "# Comparison Operators\n",
    "is_equal = a == b\n",
    "not_equal = a != b\n",
    "greater_than = a > b\n",
    "less_than = a < b\n",
    "greater_than_or_equal = a >= b\n",
    "less_than_or_equal = a <= b\n",
    "\n",
    "# Logical Operators\n",
    "logical_and = True and False\n",
    "logical_or = True or False\n",
    "logical_not = not True\n"
   ]
  },
  {
   "cell_type": "markdown",
   "id": "346f4311",
   "metadata": {},
   "source": [
    "# Conditional Statements:"
   ]
  },
  {
   "cell_type": "code",
   "execution_count": 4,
   "id": "b7ab9a91",
   "metadata": {},
   "outputs": [
    {
     "name": "stdout",
     "output_type": "stream",
     "text": [
      "Positive\n"
     ]
    }
   ],
   "source": [
    "x = 10\n",
    "if x > 0:\n",
    "    print(\"Positive\")\n",
    "elif x < 0:\n",
    "    print(\"Negative\")\n",
    "else:\n",
    "    print(\"Zero\")\n"
   ]
  },
  {
   "cell_type": "markdown",
   "id": "56afaec4",
   "metadata": {},
   "source": [
    "# Loops:"
   ]
  },
  {
   "cell_type": "code",
   "execution_count": 5,
   "id": "2b2380bd",
   "metadata": {},
   "outputs": [
    {
     "name": "stdout",
     "output_type": "stream",
     "text": [
      "0\n",
      "1\n",
      "2\n",
      "3\n",
      "4\n",
      "0\n",
      "1\n",
      "2\n",
      "3\n",
      "4\n"
     ]
    }
   ],
   "source": [
    "# For loop\n",
    "for i in range(5):\n",
    "    print(i)\n",
    "\n",
    "# While loop\n",
    "count = 0\n",
    "while count < 5:\n",
    "    print(count)\n",
    "    count += 1\n"
   ]
  },
  {
   "cell_type": "markdown",
   "id": "711844e7",
   "metadata": {},
   "source": [
    "# Functions:"
   ]
  },
  {
   "cell_type": "code",
   "execution_count": 6,
   "id": "62c57029",
   "metadata": {},
   "outputs": [
    {
     "name": "stdout",
     "output_type": "stream",
     "text": [
      "8\n"
     ]
    }
   ],
   "source": [
    "# Function without arguments\n",
    "def greet():\n",
    "    print(\"Hello!\")\n",
    "\n",
    "# Function with arguments\n",
    "def add_numbers(a, b):\n",
    "    return a + b\n",
    "\n",
    "result = add_numbers(3, 5)\n",
    "print(result)\n"
   ]
  },
  {
   "cell_type": "markdown",
   "id": "9efa3b70",
   "metadata": {},
   "source": [
    "# Lists:"
   ]
  },
  {
   "cell_type": "code",
   "execution_count": 7,
   "id": "5ba3bfb0",
   "metadata": {},
   "outputs": [
    {
     "name": "stdout",
     "output_type": "stream",
     "text": [
      "1\n"
     ]
    },
    {
     "data": {
      "text/plain": [
       "6"
      ]
     },
     "execution_count": 7,
     "metadata": {},
     "output_type": "execute_result"
    }
   ],
   "source": [
    "# Creating a list\n",
    "numbers = [1, 2, 3, 4, 5]\n",
    "\n",
    "# Accessing elements\n",
    "print(numbers[0])  # Output: 1\n",
    "\n",
    "# List methods\n",
    "numbers.append(6)\n",
    "numbers.pop()\n"
   ]
  },
  {
   "cell_type": "markdown",
   "id": "9851ff09",
   "metadata": {},
   "source": [
    "# Dictionaries:"
   ]
  },
  {
   "cell_type": "code",
   "execution_count": 8,
   "id": "54c96821",
   "metadata": {},
   "outputs": [
    {
     "name": "stdout",
     "output_type": "stream",
     "text": [
      "John Doe\n"
     ]
    }
   ],
   "source": [
    "# Creating a dictionary\n",
    "student = {\n",
    "    'name': 'John Doe',\n",
    "    'age': 25,\n",
    "    'email': 'john@example.com'\n",
    "}\n",
    "\n",
    "# Accessing elements\n",
    "print(student['name'])  # Output: John Doe\n",
    "\n",
    "# Dictionary methods\n",
    "student['phone'] = '123-456-7890'\n",
    "del student['email']\n"
   ]
  },
  {
   "cell_type": "markdown",
   "id": "6b932e1b",
   "metadata": {},
   "source": [
    "# Tuples:"
   ]
  },
  {
   "cell_type": "code",
   "execution_count": 9,
   "id": "b6bd3247",
   "metadata": {},
   "outputs": [
    {
     "name": "stdout",
     "output_type": "stream",
     "text": [
      "red\n"
     ]
    }
   ],
   "source": [
    "# Creating a tuple\n",
    "colors = ('red', 'green', 'blue')\n",
    "\n",
    "# Accessing elements\n",
    "print(colors[0])  # Output: red\n",
    "\n",
    "# Tuples are immutable\n"
   ]
  },
  {
   "cell_type": "markdown",
   "id": "3b09a5fe",
   "metadata": {},
   "source": [
    "# Sets:"
   ]
  },
  {
   "cell_type": "code",
   "execution_count": 30,
   "id": "d540284f",
   "metadata": {},
   "outputs": [
    {
     "name": "stdout",
     "output_type": "stream",
     "text": [
      "{1, 2, 4, 5, 6}\n"
     ]
    }
   ],
   "source": [
    "# Creating a set\n",
    "unique_numbers = {1, 2, 3, 3, 4, 5}\n",
    "\n",
    "# Set operations\n",
    "unique_numbers.add(6)\n",
    "unique_numbers.remove(3)\n",
    "\n",
    "print(unique_numbers)\n",
    "thisset = {\"apple\", \"banana\", \"cherry\", True, 1, 2}\n"
   ]
  },
  {
   "cell_type": "code",
   "execution_count": 2,
   "id": "9951568c",
   "metadata": {},
   "outputs": [
    {
     "name": "stdout",
     "output_type": "stream",
     "text": [
      "{'cherry', 'banana', 'apple'}\n"
     ]
    }
   ],
   "source": [
    "thisset = {\"apple\", \"banana\", \"cherry\", \"apple\"}\n",
    "print(thisset)"
   ]
  },
  {
   "cell_type": "markdown",
   "id": "74b1305d",
   "metadata": {},
   "source": [
    "# String Manipulation:"
   ]
  },
  {
   "cell_type": "code",
   "execution_count": 11,
   "id": "98560290",
   "metadata": {},
   "outputs": [
    {
     "name": "stdout",
     "output_type": "stream",
     "text": [
      "Hello\n",
      "hello, python!\n",
      "HELLO, PYTHON!\n",
      "Hello, World!\n"
     ]
    }
   ],
   "source": [
    "message = \"Hello, Python!\"\n",
    "\n",
    "# String slicing\n",
    "print(message[0:5])  # Output: Hello\n",
    "\n",
    "# String methods\n",
    "print(message.lower())\n",
    "print(message.upper())\n",
    "print(message.replace('Python', 'World'))\n"
   ]
  },
  {
   "cell_type": "markdown",
   "id": "4c4bc934",
   "metadata": {},
   "source": [
    "# Exception Handling:"
   ]
  },
  {
   "cell_type": "code",
   "execution_count": null,
   "id": "80ce38dd",
   "metadata": {},
   "outputs": [],
   "source": [
    "try:\n",
    "    num = int(input(\"Enter a number: \"))\n",
    "    print(10 / num)\n",
    "except ZeroDivisionError:\n",
    "    print(\"Cannot divide by zero.\")\n",
    "except ValueError:\n",
    "    print(\"Invalid input. Please enter a valid number.\")\n"
   ]
  },
  {
   "cell_type": "markdown",
   "id": "efb58261",
   "metadata": {},
   "source": [
    "# Lets step-up our Python to next level"
   ]
  },
  {
   "cell_type": "markdown",
   "id": "51b886d9",
   "metadata": {},
   "source": [
    "# Recursive Functions:\n",
    "A recursive function is a function that calls itself to solve a problem. One classic example is the calculation of factorial."
   ]
  },
  {
   "cell_type": "code",
   "execution_count": 12,
   "id": "ee9d3ec0",
   "metadata": {},
   "outputs": [
    {
     "name": "stdout",
     "output_type": "stream",
     "text": [
      "120\n"
     ]
    }
   ],
   "source": [
    "def factorial(n):\n",
    "    if n == 0 or n == 1:\n",
    "        return 1\n",
    "    else:\n",
    "        return n * factorial(n - 1)\n",
    "\n",
    "result = factorial(5)\n",
    "print(result)  # Output: 120\n"
   ]
  },
  {
   "cell_type": "markdown",
   "id": "2bd7761e",
   "metadata": {},
   "source": [
    "# Default Arguments:\n",
    "Functions can have default values for some of their parameters, which are used when the arguments are not provided."
   ]
  },
  {
   "cell_type": "code",
   "execution_count": 13,
   "id": "7ed06442",
   "metadata": {},
   "outputs": [
    {
     "name": "stdout",
     "output_type": "stream",
     "text": [
      "Hello John\n",
      "Hi there! Mary\n"
     ]
    }
   ],
   "source": [
    "def greet(name, greeting=\"Hello\"):\n",
    "    print(greeting, name)\n",
    "\n",
    "greet(\"John\")                # Output: Hello John\n",
    "greet(\"Mary\", \"Hi there!\")   # Output: Hi there! Mary\n"
   ]
  },
  {
   "cell_type": "markdown",
   "id": "9e5e1b45",
   "metadata": {},
   "source": [
    "# Variable-Length Arguments:\n",
    "Variable-Length Arguments, also known as varargs, allow functions to accept an arbitrary number of arguments. In Python, you can use *args and **kwargs to handle variable-length arguments. "
   ]
  },
  {
   "cell_type": "code",
   "execution_count": null,
   "id": "65030dbc",
   "metadata": {},
   "outputs": [],
   "source": [
    "#Example 1: Summing Variable Number of Integers\n",
    "def sum_integers(*args):\n",
    "    total = 0\n",
    "    for num in args:\n",
    "        total += num\n",
    "    return total\n",
    "\n",
    "result = sum_integers(1, 2, 3, 4, 5)\n",
    "print(result)  # Output: 15\n"
   ]
  },
  {
   "cell_type": "code",
   "execution_count": 19,
   "id": "93a7e09c",
   "metadata": {},
   "outputs": [],
   "source": [
    "#Example 2: Concatenating Strings with Variable Arguments\n",
    "def concatenate_strings(*args):\n",
    "    return ' '.join(args)\n",
    "\n",
    "result = concatenate_strings('Hello', 'World', 'from', 'Python!')\n",
    "print(result)  # Output: Hello World from Python!\n"
   ]
  },
  {
   "cell_type": "code",
   "execution_count": null,
   "id": "679965f8",
   "metadata": {},
   "outputs": [],
   "source": [
    "#Example 3: Using Variable-Length Arguments with Regular Arguments\n",
    "def example_func(arg1, *args):\n",
    "    print(f\"Regular argument: {arg1}\")\n",
    "    print(f\"Variable arguments: {args}\")\n",
    "\n",
    "example_func('Hello', 'World', 'from', 'Python!')\n",
    "# Output:\n",
    "# Regular argument: Hello\n",
    "# Variable arguments: ('World', 'from', 'Python!')\n"
   ]
  },
  {
   "cell_type": "code",
   "execution_count": null,
   "id": "ffe63edb",
   "metadata": {},
   "outputs": [],
   "source": [
    "#Example 4: Passing Variable-Length Arguments to Another Function\n",
    "def func1(*args):\n",
    "    return sum(args)\n",
    "\n",
    "def func2(*args):\n",
    "    return func1(*args)\n",
    "\n",
    "result = func2(1, 2, 3, 4, 5)\n",
    "print(result)  # Output: 15\n"
   ]
  },
  {
   "cell_type": "code",
   "execution_count": null,
   "id": "f40f89c0",
   "metadata": {},
   "outputs": [],
   "source": [
    "#Example 5: Using kwargs for Key-Value Pairs\n",
    "def display_info(**kwargs):\n",
    "    for key, value in kwargs.items():\n",
    "        print(f\"{key}: {value}\")\n",
    "\n",
    "display_info(name='John', age=30, city='New York')\n",
    "# Output:\n",
    "# name: John\n",
    "# age: 30\n",
    "# city: New York\n"
   ]
  },
  {
   "cell_type": "code",
   "execution_count": null,
   "id": "f29e9e24",
   "metadata": {},
   "outputs": [],
   "source": [
    "#Example 6: Combining *args and kwargs\n",
    "def example_func(arg1, *args, **kwargs):\n",
    "    print(f\"Regular argument: {arg1}\")\n",
    "    print(f\"Variable arguments: {args}\")\n",
    "    print(f\"Keyword arguments: {kwargs}\")\n",
    "\n",
    "example_func('Hello', 'World', 'from', 'Python!', language='Python', version='3.9')\n",
    "# Output:\n",
    "# Regular argument: Hello\n",
    "# Variable arguments: ('World', 'from', 'Python!')\n",
    "# Keyword arguments: {'language': 'Python', 'version': '3.9'}\n"
   ]
  },
  {
   "cell_type": "code",
   "execution_count": null,
   "id": "af893757",
   "metadata": {},
   "outputs": [],
   "source": [
    "#Example 7: Using Variable-Length Arguments with List Unpacking\n",
    "def sum_elements(a, b, c):\n",
    "    return a + b + c\n",
    "\n",
    "data = [1, 2, 3]\n",
    "result = sum_elements(*data)\n",
    "print(result)  # Output: 6\n"
   ]
  },
  {
   "cell_type": "code",
   "execution_count": null,
   "id": "b571bb92",
   "metadata": {},
   "outputs": [],
   "source": [
    "#Example 8: Variable-Length Arguments with Default Values\n",
    "def greet(*names, greeting='Hello'):\n",
    "    for name in names:\n",
    "        print(f\"{greeting}, {name}!\")\n",
    "\n",
    "greet('Alice', 'Bob', 'Charlie')  # Output: Hello, Alice! Hello, Bob! Hello, Charlie!\n",
    "greet('David', greeting='Hi')     # Output: Hi, David!\n"
   ]
  },
  {
   "cell_type": "code",
   "execution_count": null,
   "id": "95b03b4e",
   "metadata": {},
   "outputs": [],
   "source": [
    "#Example 9: Using *args and kwargs in Combination with Another Function\n",
    "def add_numbers(a, b):\n",
    "    return a + b\n",
    "\n",
    "def perform_operation(func, *args, **kwargs):\n",
    "    return func(*args, **kwargs)\n",
    "\n",
    "result = perform_operation(add_numbers, 3, 5)\n",
    "print(result)  # Output: 8\n"
   ]
  },
  {
   "cell_type": "code",
   "execution_count": null,
   "id": "d45aca55",
   "metadata": {},
   "outputs": [],
   "source": [
    "#Example 10: Variable-Length Arguments in a Recursive Function\n",
    "def recursive_sum(*args):\n",
    "    if len(args) == 1:\n",
    "        return args[0]\n",
    "    return args[0] + recursive_sum(*args[1:])\n",
    "\n",
    "result = recursive_sum(1, 2, 3, 4, 5)\n",
    "print(result)  # Output: 15\n"
   ]
  },
  {
   "cell_type": "markdown",
   "id": "8c6980ca",
   "metadata": {},
   "source": [
    "Let's go through the step-by-step explanation of each example:\n",
    "\n",
    "**Example 1: Summing Variable Number of Integers**\n",
    "1. The `sum_integers` function is defined with `*args` to accept a variable number of integer arguments.\n",
    "2. The function initializes `total` to 0.\n",
    "3. It iterates over all the arguments in `args` and adds each integer to the `total`.\n",
    "4. Finally, it returns the calculated `total`.\n",
    "\n",
    "**Example 2: Concatenating Strings with Variable Arguments**\n",
    "1. The `concatenate_strings` function is defined with `*args` to accept a variable number of string arguments.\n",
    "2. It uses the `join` method to concatenate all the strings in `args` using a space as a separator.\n",
    "3. The concatenated string is returned as the output.\n",
    "\n",
    "**Example 3: Using Variable-Length Arguments with Regular Arguments**\n",
    "1. The `example_func` function is defined with a regular argument `arg1` and `*args` to accept a variable number of arguments.\n",
    "2. It prints the value of `arg1` and `args`.\n",
    "\n",
    "**Example 4: Passing Variable-Length Arguments to Another Function**\n",
    "1. Two functions, `func1` and `func2`, are defined with `*args`.\n",
    "2. `func1` calculates the sum of all arguments in `args` and returns the total.\n",
    "3. `func2` calls `func1` and passes all its arguments to it using the `*args` syntax.\n",
    "4. The result of `func1` is then printed as the output.\n",
    "\n",
    "**Example 5: Using **kwargs for Key-Value Pairs**\n",
    "1. The `display_info` function is defined with `**kwargs` to accept a variable number of keyword arguments (key-value pairs).\n",
    "2. It iterates over all the keyword arguments using the `items()` method and prints each key-value pair.\n",
    "\n",
    "**Example 6: Combining *args and **kwargs**\n",
    "1. The `example_func` function is defined with a regular argument `arg1`, `*args` to accept a variable number of arguments, and `**kwargs` to accept a variable number of keyword arguments.\n",
    "2. It prints the values of `arg1`, `args`, and `kwargs`.\n",
    "\n",
    "**Example 7: Using Variable-Length Arguments with List Unpacking**\n",
    "1. The `sum_elements` function is defined to accept three arguments: `a`, `b`, and `c`.\n",
    "2. A list `data` containing three elements [1, 2, 3] is defined.\n",
    "3. `sum_elements` is called with the elements of `data` unpacked using `*data`.\n",
    "4. The function calculates and returns the sum of `a`, `b`, and `c`.\n",
    "\n",
    "**Example 8: Variable-Length Arguments with Default Values**\n",
    "1. The `greet` function is defined with `*names` to accept a variable number of arguments and `greeting='Hello'` to set a default value for the `greeting` parameter.\n",
    "2. It iterates over all the names in `names` and prints each name with the provided or default greeting.\n",
    "\n",
    "**Example 9: Using *args and **kwargs in Combination with Another Function**\n",
    "1. The `add_numbers` function is defined to accept two arguments `a` and `b` and returns their sum.\n",
    "2. The `perform_operation` function is defined with `func`, `*args`, and `**kwargs` to accept a function and variable-length arguments.\n",
    "3. It calls the function `func` with the given arguments and keyword arguments.\n",
    "4. The result of the function call is returned as the output.\n",
    "\n",
    "**Example 10: Variable-Length Arguments in a Recursive Function**\n",
    "1. The `recursive_sum` function is defined with `*args` to accept a variable number of integer arguments.\n",
    "2. The function checks if there is only one argument in `args`. If so, it returns that argument.\n",
    "3. Otherwise, it returns the first argument added to the result of the recursive call to `recursive_sum` with the rest of the arguments (excluding the first one).\n",
    "\n",
    "These step-by-step explanations should help you understand how each example is working with variable-length arguments, making it easier to apply these concepts in your own projects."
   ]
  },
  {
   "cell_type": "markdown",
   "id": "a144fe7c",
   "metadata": {},
   "source": [
    "# Lambda Functions (Anonymous Functions):\n",
    "Lambda functions, also known as anonymous functions, are small, one-line functions defined using the lambda keyword in Python. They are typically used for simple operations and are not intended for complex logic. Lambda functions are useful when you need a quick function for a short period and don't want to define a full-fledged named function."
   ]
  },
  {
   "cell_type": "markdown",
   "id": "396e70f3",
   "metadata": {},
   "source": [
    "lambda arguments: expression\n"
   ]
  },
  {
   "cell_type": "markdown",
   "id": "6c8443c5",
   "metadata": {},
   "source": [
    "Here, arguments represent the function's input parameters, and expression is the operation performed using those arguments, whose result is returned.\n",
    "\n",
    "Let's see some examples of lambda functions:"
   ]
  },
  {
   "cell_type": "code",
   "execution_count": null,
   "id": "209d854b",
   "metadata": {},
   "outputs": [],
   "source": [
    "#Example 1: Simple Addition\n",
    "\n",
    "add = lambda x, y: x + y\n",
    "result = add(3, 5)\n",
    "print(result)  # Output: 8\n"
   ]
  },
  {
   "cell_type": "code",
   "execution_count": null,
   "id": "2f621743",
   "metadata": {},
   "outputs": [],
   "source": [
    "#Example 2: Square of a Number\n",
    "square = lambda x: x ** 2\n",
    "result = square(5)\n",
    "print(result)  # Output: 25\n"
   ]
  },
  {
   "cell_type": "code",
   "execution_count": null,
   "id": "2334c09e",
   "metadata": {},
   "outputs": [],
   "source": [
    "#Example 3: Checking for Even Numbers\n",
    "is_even = lambda num: num % 2 == 0\n",
    "print(is_even(4))   # Output: True\n",
    "print(is_even(7))   # Output: False\n"
   ]
  },
  {
   "cell_type": "code",
   "execution_count": null,
   "id": "d18d670a",
   "metadata": {},
   "outputs": [],
   "source": [
    "#Example 4: Sorting a List of Tuples Based on Second Element\n",
    "\n",
    "data = [(1, 4), (3, 2), (2, 8), (5, 1)]\n",
    "sorted_data = sorted(data, key=lambda x: x[1])\n",
    "print(sorted_data)  # Output: [(5, 1), (3, 2), (1, 4), (2, 8)]\n"
   ]
  },
  {
   "cell_type": "code",
   "execution_count": 18,
   "id": "e9cdc7d4",
   "metadata": {},
   "outputs": [
    {
     "name": "stdout",
     "output_type": "stream",
     "text": [
      "[1, 4, 9, 16, 25]\n"
     ]
    }
   ],
   "source": [
    "# Example 5: Using Lambda with Higher-Order Functions\n",
    "numbers = [1, 2, 3, 4, 5]\n",
    "squared_numbers = list(map(lambda x: x ** 2, numbers))\n",
    "print(squared_numbers)  # Output: [1, 4, 9, 16, 25]\n"
   ]
  },
  {
   "cell_type": "markdown",
   "id": "1b99b9dd",
   "metadata": {},
   "source": [
    "In this last example, we used the map function with a lambda function to apply the square operation to each element in the numbers list. The map function applies the given function (lambda in this case) to all the items in the input list and returns an iterator.\n",
    "\n",
    "Keep in mind that while lambda functions can be handy for simple operations, they are not suitable for complex or lengthy logic. In such cases, it's better to use named functions for better readability and maintainability."
   ]
  },
  {
   "cell_type": "markdown",
   "id": "14b5fcf0",
   "metadata": {},
   "source": [
    "# Higher-Order Functions:\n",
    "Python allows functions to be passed as arguments to other functions, enabling the use of higher-order functions."
   ]
  },
  {
   "cell_type": "code",
   "execution_count": 16,
   "id": "4d806575",
   "metadata": {},
   "outputs": [
    {
     "name": "stdout",
     "output_type": "stream",
     "text": [
      "8\n",
      "8\n"
     ]
    }
   ],
   "source": [
    "def apply_operation(operation, a, b):\n",
    "    return operation(a, b)\n",
    "\n",
    "def add(x, y):\n",
    "    return x + y\n",
    "\n",
    "def multiply(x, y):\n",
    "    return x * y\n",
    "\n",
    "result1 = apply_operation(add, 3, 5)\n",
    "result2 = apply_operation(multiply, 2, 4)\n",
    "\n",
    "print(result1)  # Output: 8\n",
    "print(result2)  # Output: 8\n"
   ]
  },
  {
   "cell_type": "markdown",
   "id": "f7c4fb1d",
   "metadata": {},
   "source": [
    "# Closures:\n",
    "A closure is a nested function that captures and remembers the environment in which it was created. It can be used to create specialized functions."
   ]
  },
  {
   "cell_type": "code",
   "execution_count": 17,
   "id": "36faa9e3",
   "metadata": {},
   "outputs": [
    {
     "name": "stdout",
     "output_type": "stream",
     "text": [
      "8\n"
     ]
    }
   ],
   "source": [
    "def outer_function(x):\n",
    "    def inner_function(y):\n",
    "        return x + y\n",
    "    return inner_function\n",
    "\n",
    "add_five = outer_function(5)\n",
    "result = add_five(3)\n",
    "print(result)  # Output: 8\n"
   ]
  },
  {
   "cell_type": "markdown",
   "id": "76859cc6",
   "metadata": {},
   "source": [
    "The list data type in Python is a versatile and commonly used container that can store multiple elements of different data types. Lists are mutable, meaning their elements can be changed after creation. Let's explore some examples of list comprehension, list manipulation, and list slicing.\n",
    "\n",
    "## List Comprehension:\n",
    "List comprehension is a concise and powerful way to create lists in Python. It allows you to create a new list by applying an expression to each element of an existing iterable (e.g., list, tuple, string) with optional conditions.\n",
    "\n",
    "Example 1: Creating a list of squares using list comprehension"
   ]
  },
  {
   "cell_type": "code",
   "execution_count": null,
   "id": "d7f8c208",
   "metadata": {},
   "outputs": [],
   "source": [
    "numbers = [1, 2, 3, 4, 5]\n",
    "squares = [num ** 2 for num in numbers]\n",
    "print(squares)  # Output: [1, 4, 9, 16, 25]\n"
   ]
  },
  {
   "cell_type": "code",
   "execution_count": null,
   "id": "d3bc86f3",
   "metadata": {},
   "outputs": [],
   "source": [
    "# Example 2: Creating a list of even numbers using list comprehension with condition\n",
    "numbers = [1, 2, 3, 4, 5, 6, 7, 8, 9, 10]\n",
    "even_numbers = [num for num in numbers if num % 2 == 0]\n",
    "print(even_numbers)  # Output: [2, 4, 6, 8, 10]\n"
   ]
  },
  {
   "cell_type": "markdown",
   "id": "5fa18049",
   "metadata": {},
   "source": [
    "## List Manipulation:\n",
    "List manipulation involves modifying or extending the elements in an existing list."
   ]
  },
  {
   "cell_type": "code",
   "execution_count": null,
   "id": "fcb006b6",
   "metadata": {},
   "outputs": [],
   "source": [
    "# Example 3: Appending elements to a list \n",
    "fruits = ['apple', 'banana', 'orange']\n",
    "fruits.append('grape')\n",
    "print(fruits)  # Output: ['apple', 'banana', 'orange', 'grape']\n"
   ]
  },
  {
   "cell_type": "code",
   "execution_count": null,
   "id": "63f257ec",
   "metadata": {},
   "outputs": [],
   "source": [
    "# Example 4: Extending a list with another list\n",
    "numbers = [1, 2, 3]\n",
    "more_numbers = [4, 5, 6]\n",
    "numbers.extend(more_numbers)\n",
    "print(numbers)  # Output: [1, 2, 3, 4, 5, 6]\n"
   ]
  },
  {
   "cell_type": "code",
   "execution_count": null,
   "id": "433f36c4",
   "metadata": {},
   "outputs": [],
   "source": [
    "# Example 5: Removing elements from a list\n",
    "numbers = [1, 2, 3, 4, 5]\n",
    "numbers.remove(3)\n",
    "print(numbers)  # Output: [1, 2, 4, 5]\n"
   ]
  },
  {
   "cell_type": "markdown",
   "id": "adf557e6",
   "metadata": {},
   "source": [
    "## List Slicing:\n",
    "List slicing allows you to extract specific parts of a list using the slicing operator [:]."
   ]
  },
  {
   "cell_type": "code",
   "execution_count": null,
   "id": "b5e5143e",
   "metadata": {},
   "outputs": [],
   "source": [
    "# Example 6: Basic list slicing\n",
    "numbers = [1, 2, 3, 4, 5, 6, 7, 8, 9, 10]\n",
    "\n",
    "# Get elements from index 2 to 5 (exclusive)\n",
    "slice1 = numbers[2:5]\n",
    "print(slice1)  # Output: [3, 4, 5]\n",
    "\n",
    "# Get elements from the beginning up to index 4 (exclusive)\n",
    "slice2 = numbers[:4]\n",
    "print(slice2)  # Output: [1, 2, 3, 4]\n",
    "\n",
    "# Get elements from index 5 to the end\n",
    "slice3 = numbers[5:]\n",
    "print(slice3)  # Output: [6, 7, 8, 9, 10]\n",
    "\n",
    "# Get elements from the list in reverse order\n",
    "reverse_slice = numbers[::-1]\n",
    "print(reverse_slice)  # Output: [10, 9, 8, 7, 6, 5, 4, 3, 2, 1]\n"
   ]
  },
  {
   "cell_type": "markdown",
   "id": "79f1c028",
   "metadata": {},
   "source": [
    "Dealing with lists in Python is a common task for developers, and while Python provides a straightforward and intuitive way to work with lists, there are some common mistakes that developers can make. Let's explore some of these mistakes with example code:\n",
    "\n",
    "## 1. Modifying a List While Iterating Over It:\n",
    "One common mistake is modifying a list while iterating over it using a for loop. This can lead to unexpected results or even runtime errors."
   ]
  },
  {
   "cell_type": "code",
   "execution_count": null,
   "id": "29b09755",
   "metadata": {},
   "outputs": [],
   "source": [
    "numbers = [1, 2, 3, 4, 5]\n",
    "\n",
    "# Incorrect way to remove even numbers from the list\n",
    "for num in numbers:\n",
    "    if num % 2 == 0:\n",
    "        numbers.remove(num)\n",
    "\n",
    "print(numbers)  # Output: [1, 3, 5] (expected [1, 3, 5])\n"
   ]
  },
  {
   "cell_type": "markdown",
   "id": "e5d2bde0",
   "metadata": {},
   "source": [
    "In the above code, we attempted to remove even numbers from the list while iterating over it. However, due to the list being modified during iteration, the loop does not behave as expected. A better approach would be to create a new list or use list comprehension to filter out the elements."
   ]
  },
  {
   "cell_type": "markdown",
   "id": "10b855dc",
   "metadata": {},
   "source": [
    "## 2. Not Creating a Copy of the List:\n",
    "When you assign one list to another without creating a copy, both lists will point to the same memory location. Any changes made to one list will affect the other."
   ]
  },
  {
   "cell_type": "code",
   "execution_count": null,
   "id": "fc9a6075",
   "metadata": {},
   "outputs": [],
   "source": [
    "list1 = [1, 2, 3]\n",
    "list2 = list1\n",
    "\n",
    "list2.append(4)\n",
    "print(list1)  # Output: [1, 2, 3, 4] (unexpectedly, list1 is modified)\n"
   ]
  },
  {
   "cell_type": "markdown",
   "id": "24b33443",
   "metadata": {},
   "source": [
    "To avoid this, you should explicitly create a copy of the list:"
   ]
  },
  {
   "cell_type": "code",
   "execution_count": null,
   "id": "03ae0a51",
   "metadata": {},
   "outputs": [],
   "source": [
    "list1 = [1, 2, 3]\n",
    "list2 = list1.copy()\n",
    "\n",
    "list2.append(4)\n",
    "print(list1)  # Output: [1, 2, 3] (list1 remains unchanged)\n"
   ]
  },
  {
   "cell_type": "markdown",
   "id": "7d84b0dc",
   "metadata": {},
   "source": [
    "## 3. Forgetting List Indexing Starts from 0:\n",
    "Python lists are zero-indexed, meaning the first element has an index of 0. New developers might forget this and make off-by-one errors."
   ]
  },
  {
   "cell_type": "code",
   "execution_count": null,
   "id": "6725dba6",
   "metadata": {},
   "outputs": [],
   "source": [
    "fruits = ['apple', 'banana', 'orange']\n",
    "\n",
    "# Incorrect indexing, 'orange' has index 3 which does not exist\n",
    "print(fruits[3])  # IndexError: list index out of range\n",
    "\n",
    "# Correct indexing, 'orange' has index 2\n",
    "print(fruits[2])  # Output: orange\n"
   ]
  },
  {
   "cell_type": "markdown",
   "id": "3c22d406",
   "metadata": {},
   "source": [
    "## 4. Misusing the in Operator:\n",
    "The in operator is used to check if an element exists in a list. However, if misused, it may lead to unexpected results."
   ]
  },
  {
   "cell_type": "code",
   "execution_count": null,
   "id": "2a1fcbf3",
   "metadata": {},
   "outputs": [],
   "source": [
    "numbers = [1, 2, 3, 4, 5]\n",
    "\n",
    "# Incorrect use of 'in' operator with a tuple\n",
    "print(1 in (1, 2, 3, 4, 5))  # Output: False (unexpectedly)\n",
    "\n",
    "# Correct use of 'in' operator with a list\n",
    "print(1 in numbers)  # Output: True\n"
   ]
  },
  {
   "cell_type": "markdown",
   "id": "d8005340",
   "metadata": {},
   "source": [
    "## 5. Failing to Consider Mutable vs. Immutable Elements:\n",
    "If a list contains mutable elements like lists or dictionaries, be cautious when modifying them. Changes to these elements will reflect across all references to them."
   ]
  },
  {
   "cell_type": "code",
   "execution_count": null,
   "id": "d8b7f9b2",
   "metadata": {},
   "outputs": [],
   "source": [
    "list1 = [1, [2, 3], 4]\n",
    "list2 = list1.copy()\n",
    "\n",
    "list2[1][0] = 100\n",
    "print(list1)  # Output: [1, [100, 3], 4] (list1 is also modified)\n"
   ]
  },
  {
   "cell_type": "markdown",
   "id": "a1da2cc8",
   "metadata": {},
   "source": [
    "In the above example, changing the nested list in list2 also affected list1.\n",
    "\n",
    "By being aware of these common mistakes, developers can write more reliable and bug-free code when working with lists in Python. Always test and validate your code to ensure it behaves as expected."
   ]
  },
  {
   "cell_type": "markdown",
   "id": "76d8b021",
   "metadata": {},
   "source": [
    "## A 2D list, also known as a nested list, is a list that contains other lists as its elements. It is a data structure used to represent tabular or grid-like data, where each element is identified by two indices - row and column. In Python, you can create a 2D list by nesting lists within lists."
   ]
  },
  {
   "cell_type": "code",
   "execution_count": null,
   "id": "827f0e21",
   "metadata": {},
   "outputs": [],
   "source": [
    "# Creating a 2D list (3x3 grid)\n",
    "grid = [\n",
    "    [1, 2, 3],\n",
    "    [4, 5, 6],\n",
    "    [7, 8, 9]\n",
    "]\n"
   ]
  },
  {
   "cell_type": "markdown",
   "id": "c2ceff0a",
   "metadata": {},
   "source": [
    "Here, grid is a 2D list with three rows and three columns.\n",
    "\n",
    "## Accessing Elements in a 2D List:\n",
    "\n",
    "You can access individual elements in a 2D list using two indices - one for the row and one for the column."
   ]
  },
  {
   "cell_type": "code",
   "execution_count": null,
   "id": "6c723cad",
   "metadata": {},
   "outputs": [],
   "source": [
    "# Accessing element at row 1, column 2 (indexing starts from 0)\n",
    "element = grid[1][2]\n",
    "print(element)  # Output: 6\n"
   ]
  },
  {
   "cell_type": "markdown",
   "id": "6a9d374d",
   "metadata": {},
   "source": [
    "## Slicing a 2D List:\n",
    "\n",
    "Slicing a 2D list involves extracting a sub-portion of the original list. This is done by specifying the range of rows and columns to be included in the slice.\n",
    "\n",
    "## Example 1: Slicing Rows"
   ]
  },
  {
   "cell_type": "code",
   "execution_count": null,
   "id": "396da132",
   "metadata": {},
   "outputs": [],
   "source": [
    "# Slicing rows from index 1 to 2 (exclusive) - Extracts rows 1 and 2\n",
    "sliced_rows = grid[1:3]\n",
    "print(sliced_rows)  # Output: [[4, 5, 6], [7, 8, 9]]\n"
   ]
  },
  {
   "cell_type": "markdown",
   "id": "f0548c0e",
   "metadata": {},
   "source": [
    "## Example 2: Slicing Columns"
   ]
  },
  {
   "cell_type": "code",
   "execution_count": null,
   "id": "6b72962f",
   "metadata": {},
   "outputs": [],
   "source": [
    "# Slicing columns from index 0 to 2 (exclusive) - Extracts columns 0 and 1\n",
    "sliced_cols = [row[0:2] for row in grid]\n",
    "print(sliced_cols)  # Output: [[1, 2], [4, 5], [7, 8]]\n"
   ]
  },
  {
   "cell_type": "markdown",
   "id": "65d20b02",
   "metadata": {},
   "source": [
    "## Example 3: Slicing a Rectangular Region"
   ]
  },
  {
   "cell_type": "code",
   "execution_count": null,
   "id": "0dcbfdd4",
   "metadata": {},
   "outputs": [],
   "source": [
    "# Slicing a rectangular region from index (0, 1) to (2, 3) - Extracts rows 0 to 1 and columns 1 to 2\n",
    "sliced_region = [row[1:3] for row in grid[0:2]]\n",
    "print(sliced_region)  # Output: [[2, 3], [5, 6]]\n"
   ]
  },
  {
   "cell_type": "markdown",
   "id": "c65ccb88",
   "metadata": {},
   "source": [
    "# Function for Slicing a 2D List:\n",
    "\n",
    "Let's create a function that slices a rectangular region from a given 2D list."
   ]
  },
  {
   "cell_type": "code",
   "execution_count": null,
   "id": "2deaa0ca",
   "metadata": {},
   "outputs": [],
   "source": [
    "def slice_2d_list(grid, start_row, end_row, start_col, end_col):\n",
    "    return [row[start_col:end_col] for row in grid[start_row:end_row]]\n",
    "\n",
    "grid = [\n",
    "    [1, 2, 3],\n",
    "    [4, 5, 6],\n",
    "    [7, 8, 9]\n",
    "]\n",
    "\n",
    "# Slicing rows from index 0 to 2 (exclusive) and columns from index 1 to 3 (exclusive)\n",
    "result = slice_2d_list(grid, 0, 2, 1, 3)\n",
    "print(result)  # Output: [[2, 3], [5, 6]]\n"
   ]
  },
  {
   "cell_type": "markdown",
   "id": "4bfe77fa",
   "metadata": {},
   "source": [
    "The slice_2d_list function allows us to extract a rectangular region from the 2D list based on the specified indices.\n",
    "\n",
    "2D lists are incredibly useful for storing and working with tabular data and matrices. Understanding slicing operations on 2D lists can be beneficial when dealing with specific parts of a dataset or when performing matrix operations."
   ]
  },
  {
   "cell_type": "markdown",
   "id": "d54bbff2",
   "metadata": {},
   "source": [
    "# Let's explore 10 complex examples using dictionaries in Python"
   ]
  },
  {
   "cell_type": "code",
   "execution_count": 20,
   "id": "e2ba2b9e",
   "metadata": {},
   "outputs": [
    {
     "name": "stdout",
     "output_type": "stream",
     "text": [
      "{'this': 1, 'is': 1, 'a': 1, 'sample': 1, 'sentence': 2, 'with': 1, 'some': 2, 'words.': 2, 'contains': 1, 'repeated': 1}\n"
     ]
    }
   ],
   "source": [
    "# Example 1: Counting Word Occurrences in a Sentence\n",
    "sentence = \"This is a sample sentence with some words. Sentence contains some repeated words.\"\n",
    "\n",
    "word_occurrences = {}\n",
    "for word in sentence.split():\n",
    "    word = word.lower()\n",
    "    word_occurrences[word] = word_occurrences.get(word, 0) + 1\n",
    "\n",
    "print(word_occurrences)\n"
   ]
  },
  {
   "cell_type": "markdown",
   "id": "e5a9b64c",
   "metadata": {},
   "source": [
    "Explanation: In this example, we are counting the occurrences of each word in the given sentence using a dictionary. We convert each word to lowercase to avoid counting the same word with different cases separately. The get() method is used to fetch the current count of the word (initialized to 0 if not present) and then increment it by 1.\n",
    "\n"
   ]
  },
  {
   "cell_type": "code",
   "execution_count": 21,
   "id": "87bc933b",
   "metadata": {},
   "outputs": [
    {
     "name": "stdout",
     "output_type": "stream",
     "text": [
      "{'a': 1, 'b': 2, 'c': 3, 'd': 4, 'e': 5, 'f': 6}\n"
     ]
    }
   ],
   "source": [
    "# Example 2: Merging Multiple Dictionaries\n",
    "dict1 = {'a': 1, 'b': 2}\n",
    "dict2 = {'c': 3, 'd': 4}\n",
    "dict3 = {'e': 5, 'f': 6}\n",
    "\n",
    "merged_dict = {**dict1, **dict2, **dict3}\n",
    "print(merged_dict)\n"
   ]
  },
  {
   "cell_type": "markdown",
   "id": "412195d9",
   "metadata": {},
   "source": [
    "Explanation: In this example, we are merging multiple dictionaries into a single dictionary using dictionary unpacking (double asterisks **). All the key-value pairs from the three dictionaries are combined into a new dictionary."
   ]
  },
  {
   "cell_type": "code",
   "execution_count": null,
   "id": "271e2a64",
   "metadata": {},
   "outputs": [],
   "source": [
    "# Example 3: Filtering a Dictionary\n",
    "scores = {'Alice': 85, 'Bob': 70, 'Charlie': 92, 'David': 60}\n",
    "\n",
    "passing_scores = {name: score for name, score in scores.items() if score >= 70}\n",
    "print(passing_scores)\n"
   ]
  },
  {
   "cell_type": "markdown",
   "id": "e1e7cf75",
   "metadata": {},
   "source": [
    "Explanation: We are filtering the scores dictionary to create a new dictionary passing_scores that only includes students who scored 70 or above."
   ]
  },
  {
   "cell_type": "code",
   "execution_count": null,
   "id": "be757e7f",
   "metadata": {},
   "outputs": [],
   "source": [
    "# Example 4: Find Common Key-Value Pairs in Two Dictionaries\n",
    "dict1 = {'a': 1, 'b': 2, 'c': 3}\n",
    "dict2 = {'b': 2, 'd': 4, 'e': 5}\n",
    "\n",
    "common_pairs = {key: dict1[key] for key in dict1 if key in dict2 and dict1[key] == dict2[key]}\n",
    "print(common_pairs)\n"
   ]
  },
  {
   "cell_type": "markdown",
   "id": "5fcccaff",
   "metadata": {},
   "source": [
    "Explanation: We are finding the common key-value pairs between dict1 and dict2. The dictionary comprehension iterates through keys in dict1 and checks if the key exists in dict2 and if the corresponding values are the same."
   ]
  },
  {
   "cell_type": "code",
   "execution_count": null,
   "id": "6042a69e",
   "metadata": {},
   "outputs": [],
   "source": [
    "# Example 5: Grouping List Items Based on a Key\n",
    "students = [\n",
    "    {'name': 'Alice', 'age': 20},\n",
    "    {'name': 'Bob', 'age': 22},\n",
    "    {'name': 'Charlie', 'age': 20},\n",
    "    {'name': 'David', 'age': 21},\n",
    "]\n",
    "\n",
    "grouped_students = {}\n",
    "for student in students:\n",
    "    age = student['age']\n",
    "    grouped_students.setdefault(age, []).append(student['name'])\n",
    "\n",
    "print(grouped_students)\n",
    "\n"
   ]
  },
  {
   "cell_type": "markdown",
   "id": "18572bc1",
   "metadata": {},
   "source": [
    "Explanation: We are grouping students by their age. The setdefault() method helps create a list for each age group and append student names to it."
   ]
  },
  {
   "cell_type": "code",
   "execution_count": null,
   "id": "1671091e",
   "metadata": {},
   "outputs": [],
   "source": [
    "# Example 6: Nested Dictionaries\n",
    "student_records = {\n",
    "    'Alice': {'age': 20, 'score': 85},\n",
    "    'Bob': {'age': 22, 'score': 70},\n",
    "    'Charlie': {'age': 20, 'score': 92},\n",
    "}\n",
    "\n",
    "print(student_records['Alice']['score'])  # Output: 85\n"
   ]
  },
  {
   "cell_type": "markdown",
   "id": "ff2e3c2a",
   "metadata": {},
   "source": [
    "Explanation: In this example, we have a dictionary of student records, where each student name maps to another dictionary containing age and score information."
   ]
  },
  {
   "cell_type": "code",
   "execution_count": null,
   "id": "51ff9204",
   "metadata": {},
   "outputs": [],
   "source": [
    "# Example 7: Sorting a Dictionary by Values\n",
    "scores = {'Alice': 85, 'Bob': 70, 'Charlie': 92, 'David': 60}\n",
    "\n",
    "sorted_scores = {k: v for k, v in sorted(scores.items(), key=lambda item: item[1], reverse=True)}\n",
    "print(sorted_scores)\n"
   ]
  },
  {
   "cell_type": "markdown",
   "id": "e41b3fc5",
   "metadata": {},
   "source": [
    "Explanation: We are sorting the scores dictionary based on the values in descending order."
   ]
  },
  {
   "cell_type": "code",
   "execution_count": null,
   "id": "346b4267",
   "metadata": {},
   "outputs": [],
   "source": [
    "# Example 8: Creating a Dictionary of Prime Numbers\n",
    "def is_prime(num):\n",
    "    if num < 2:\n",
    "        return False\n",
    "    for i in range(2, int(num ** 0.5) + 1):\n",
    "        if num % i == 0:\n",
    "            return False\n",
    "    return True\n",
    "\n",
    "n = 10\n",
    "prime_numbers = {num: is_prime(num) for num in range(1, n+1)}\n",
    "print(prime_numbers)\n"
   ]
  },
  {
   "cell_type": "markdown",
   "id": "6fcd9715",
   "metadata": {},
   "source": [
    "Explanation: We are creating a dictionary to identify prime numbers from 1 to n."
   ]
  },
  {
   "cell_type": "code",
   "execution_count": null,
   "id": "79585d58",
   "metadata": {},
   "outputs": [],
   "source": [
    "#Example 9: Inverting a Dictionary\n",
    "scores = {'Alice': 85, 'Bob': 70, 'Charlie': 92, 'David': 60}\n",
    "\n",
    "inverted_scores = {v: k for k, v in scores.items()}\n",
    "print(inverted_scores)\n"
   ]
  },
  {
   "cell_type": "markdown",
   "id": "02772b46",
   "metadata": {},
   "source": [
    "Explanation: We are inverting the scores dictionary to map scores to students' names."
   ]
  },
  {
   "cell_type": "code",
   "execution_count": 23,
   "id": "22faacaa",
   "metadata": {},
   "outputs": [],
   "source": [
    "#Example 10: Nested Default Dictionaries\n",
    "from collections import defaultdict\n",
    "\n",
    "nested_dict = lambda: defaultdict(nested_dict)\n",
    "data = nested_dict()\n",
    "\n",
    "data['Alice']['age'] = 20\n",
    "data['Alice']['score'] = 85\n",
    "\n",
    "print(data['Alice']['age'])   # Output: 20\n",
    "print(data['Alice']['score']) # Output: 85\n"
   ]
  },
  {
   "cell_type": "markdown",
   "id": "d3a60d57",
   "metadata": {},
   "source": [
    "Explanation: We are creating a nested default dictionary that allows us to access nested keys without explicitly creating inner dictionaries.\n",
    "\n",
    "These examples demonstrate the versatility and power of dictionaries in Python, making them a valuable tool for various tasks, especially when dealing with complex data structures and mappings."
   ]
  },
  {
   "cell_type": "markdown",
   "id": "aee583c0",
   "metadata": {},
   "source": [
    "### Creating classes in Python is a fundamental concept in object-oriented programming (OOP). As the complexity increases, we can explore more advanced topics. Let's go through three levels of examples for classes in Python, each with 10 examples:"
   ]
  },
  {
   "cell_type": "markdown",
   "id": "5807879a",
   "metadata": {},
   "source": [
    "## Beginner Level:\n",
    "### Creating a Simple Class: "
   ]
  },
  {
   "cell_type": "code",
   "execution_count": null,
   "id": "a4685857",
   "metadata": {},
   "outputs": [],
   "source": [
    "class Dog:\n",
    "    def __init__(self, name):\n",
    "        self.name = name\n",
    "\n",
    "    def bark(self):\n",
    "        print(f\"{self.name} says: Woof!\")\n"
   ]
  },
  {
   "cell_type": "code",
   "execution_count": null,
   "id": "809c9583",
   "metadata": {},
   "outputs": [],
   "source": [
    "# Creating Objects (Instances) of the Class:\n",
    "dog1 = Dog(\"Buddy\")\n",
    "dog2 = Dog(\"Charlie\")\n",
    "\n",
    "dog1.bark()  # Output: Buddy says: Woof!\n",
    "dog2.bark()  # Output: Charlie says: Woof!\n"
   ]
  },
  {
   "cell_type": "code",
   "execution_count": null,
   "id": "37d821fb",
   "metadata": {},
   "outputs": [],
   "source": [
    "# Adding Attributes and Methods:\n",
    "class Car:\n",
    "    def __init__(self, make, model, year):\n",
    "        self.make = make\n",
    "        self.model = model\n",
    "        self.year = year\n",
    "\n",
    "    def start_engine(self):\n",
    "        print(f\"{self.make} {self.model} engine started.\")\n",
    "\n",
    "car1 = Car(\"Toyota\", \"Camry\", 2022)\n",
    "car2 = Car(\"Honda\", \"Accord\", 2021)\n",
    "\n",
    "print(car1.make, car1.model)  # Output: Toyota Camry\n",
    "print(car2.year)              # Output: 2021\n",
    "car1.start_engine()           # Output: Toyota Camry engine started.\n"
   ]
  },
  {
   "cell_type": "code",
   "execution_count": null,
   "id": "43969918",
   "metadata": {},
   "outputs": [],
   "source": [
    "# Class Inheritance:\n",
    "class Animal:\n",
    "    def __init__(self, name):\n",
    "        self.name = name\n",
    "\n",
    "    def speak(self):\n",
    "        pass\n",
    "\n",
    "class Dog(Animal):\n",
    "    def speak(self):\n",
    "        print(f\"{self.name} says: Woof!\")\n",
    "\n",
    "class Cat(Animal):\n",
    "    def speak(self):\n",
    "        print(f\"{self.name} says: Meow!\")\n",
    "\n",
    "dog = Dog(\"Buddy\")\n",
    "cat = Cat(\"Whiskers\")\n",
    "\n",
    "dog.speak()  # Output: Buddy says: Woof!\n",
    "cat.speak()  # Output: Whiskers says: Meow!\n"
   ]
  },
  {
   "cell_type": "code",
   "execution_count": null,
   "id": "7576ae51",
   "metadata": {},
   "outputs": [],
   "source": [
    "# Class Attributes and Methods:\n",
    "class Circle:\n",
    "    pi = 3.14159  # Class attribute\n",
    "\n",
    "    def __init__(self, radius):\n",
    "        self.radius = radius\n",
    "\n",
    "    def area(self):\n",
    "        return Circle.pi * self.radius ** 2\n",
    "\n",
    "circle1 = Circle(5)\n",
    "print(circle1.area())  # Output: 78.53975\n"
   ]
  },
  {
   "cell_type": "code",
   "execution_count": null,
   "id": "f663f5f7",
   "metadata": {},
   "outputs": [],
   "source": [
    "# Using Class as a Data Structure:\n",
    "class Point:\n",
    "    def __init__(self, x, y):\n",
    "        self.x = x\n",
    "        self.y = y\n",
    "\n",
    "points = [Point(1, 2), Point(3, 4), Point(5, 6)]\n",
    "for point in points:\n",
    "    print(f\"({point.x}, {point.y})\")\n",
    "\n",
    "# Output:\n",
    "# (1, 2)\n",
    "# (3, 4)\n",
    "# (5, 6)\n"
   ]
  },
  {
   "cell_type": "markdown",
   "id": "262c65fd",
   "metadata": {},
   "source": [
    "## Intermediate Level:"
   ]
  },
  {
   "cell_type": "code",
   "execution_count": null,
   "id": "50510036",
   "metadata": {},
   "outputs": [],
   "source": [
    "# Class Composition:\n",
    "class Engine:\n",
    "    def start(self):\n",
    "        print(\"Engine started.\")\n",
    "\n",
    "class Car:\n",
    "    def __init__(self):\n",
    "        self.engine = Engine()\n",
    "\n",
    "    def start_engine(self):\n",
    "        self.engine.start()\n",
    "\n",
    "car = Car()\n",
    "car.start_engine()  # Output: Engine started.\n"
   ]
  },
  {
   "cell_type": "code",
   "execution_count": 25,
   "id": "12f7dd67",
   "metadata": {},
   "outputs": [
    {
     "name": "stdout",
     "output_type": "stream",
     "text": [
      "Dog barks.\n"
     ]
    }
   ],
   "source": [
    "# Class Method Overriding:\n",
    "class Animal:\n",
    "    def speak(self):\n",
    "        print(\"Animal speaks.\")\n",
    "\n",
    "class Dog(Animal):\n",
    "    def speak(self):\n",
    "        print(\"Dog barks.\")\n",
    "\n",
    "dog = Dog()\n",
    "dog.speak()  # Output: Dog barks.\n"
   ]
  },
  {
   "cell_type": "code",
   "execution_count": null,
   "id": "edceed34",
   "metadata": {},
   "outputs": [],
   "source": [
    "# Multiple Inheritance:\n",
    "class Flyer:\n",
    "    def fly(self):\n",
    "        print(\"Flying...\")\n",
    "\n",
    "class Swimmer:\n",
    "    def swim(self):\n",
    "        print(\"Swimming...\")\n",
    "\n",
    "class FlyingFish(Flyer, Swimmer):\n",
    "    pass\n",
    "\n",
    "flying_fish = FlyingFish()\n",
    "flying_fish.fly()   # Output: Flying...\n",
    "flying_fish.swim()  # Output: Swimming...\n"
   ]
  },
  {
   "cell_type": "code",
   "execution_count": null,
   "id": "402fe997",
   "metadata": {},
   "outputs": [],
   "source": [
    "# Class Composition vs. Inheritance:\n",
    "class Engine:\n",
    "    def start(self):\n",
    "        print(\"Engine started.\")\n",
    "\n",
    "class Car:\n",
    "    def __init__(self):\n",
    "        self.engine = Engine()\n",
    "\n",
    "    def start_engine(self):\n",
    "        self.engine.start()\n",
    "\n",
    "class ElectricCar(Car):\n",
    "    def __init__(self):\n",
    "        super().__init__()\n",
    "        self.battery = \"Lithium-ion\"\n",
    "\n",
    "electric_car = ElectricCar()\n",
    "electric_car.start_engine()  # Output: Engine started.\n"
   ]
  },
  {
   "cell_type": "code",
   "execution_count": null,
   "id": "071f64ea",
   "metadata": {},
   "outputs": [],
   "source": [
    "# Operator Overloading:\n",
    "class ComplexNumber:\n",
    "    def __init__(self, real, imaginary):\n",
    "        self.real = real\n",
    "        self.imaginary = imaginary\n",
    "\n",
    "    def __add__(self, other):\n",
    "        return ComplexNumber(self.real + other.real, self.imaginary + other.imaginary)\n",
    "\n",
    "    def __str__(self):\n",
    "        return f\"{self.real} + {self.imaginary}i\"\n",
    "\n",
    "num1 = ComplexNumber(2, 3)\n",
    "num2 = ComplexNumber(4, 5)\n",
    "result = num1 + num2\n",
    "print(result)  # Output: 6 + 8i\n"
   ]
  },
  {
   "cell_type": "markdown",
   "id": "d4cfbbd3",
   "metadata": {},
   "source": [
    "## Thank you , for video explaniation in Urdu/Hindi please visit https://youtube.com/@NeuralNetLabs  ###"
   ]
  },
  {
   "cell_type": "code",
   "execution_count": null,
   "id": "b9302e70",
   "metadata": {},
   "outputs": [],
   "source": []
  }
 ],
 "metadata": {
  "kernelspec": {
   "display_name": "Python 3 (ipykernel)",
   "language": "python",
   "name": "python3"
  },
  "language_info": {
   "codemirror_mode": {
    "name": "ipython",
    "version": 3
   },
   "file_extension": ".py",
   "mimetype": "text/x-python",
   "name": "python",
   "nbconvert_exporter": "python",
   "pygments_lexer": "ipython3",
   "version": "3.8.12"
  }
 },
 "nbformat": 4,
 "nbformat_minor": 5
}
